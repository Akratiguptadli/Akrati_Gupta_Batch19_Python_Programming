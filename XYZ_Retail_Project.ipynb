{
  "nbformat": 4,
  "nbformat_minor": 0,
  "metadata": {
    "colab": {
      "provenance": []
    },
    "kernelspec": {
      "name": "python3",
      "display_name": "Python 3"
    },
    "language_info": {
      "name": "python"
    }
  },
  "cells": [
    {
      "cell_type": "code",
      "source": [
        "import pandas as pd\n",
        "import numpy as np\n",
        "import random"
      ],
      "metadata": {
        "id": "zPc80CbX6MZY"
      },
      "execution_count": null,
      "outputs": []
    },
    {
      "cell_type": "code",
      "execution_count": 32,
      "metadata": {
        "id": "bZKzZtu6imLZ",
        "colab": {
          "base_uri": "https://localhost:8080/"
        },
        "outputId": "e35c03fa-c16e-4b52-c25b-33e64087999d"
      },
      "outputs": [
        {
          "output_type": "stream",
          "name": "stdout",
          "text": [
            "enter units sold in Category A: 150\n",
            "enter units sold in Category B: 120\n",
            " \n",
            " Total units sold by XYZ Retail is 270 units\n",
            "\n",
            " The difference between the two categories is 30 units\n",
            "\n",
            " The ratio of units sold in Category A to units sold in Category B is 1.25\n"
          ]
        }
      ],
      "source": [
        "# Task 1: Sales Data Summary\n",
        "Sales_Category_A = int(input('enter units sold in Category A: '))\n",
        "Sales_Category_B = int(input('enter units sold in Category B: '))\n",
        "\n",
        "Total_Units_Sold = Sales_Category_A + Sales_Category_B\n",
        "if Sales_Category_A > Sales_Category_B:\n",
        "   Difference_in_Sales = Sales_Category_A - Sales_Category_B\n",
        "else:\n",
        "  Difference_in_Sales = Sales_Category_B - Sales_Category_A\n",
        "\n",
        "ratio = Sales_Category_A/Sales_Category_B\n",
        "\n",
        "print(f' \\n Total units sold by XYZ Retail is {Total_Units_Sold} units')\n",
        "print(f'\\n The difference between the two categories is {Difference_in_Sales} units')\n",
        "print(f'\\n The ratio of units sold in Category A to units sold in Category B is {ratio}')"
      ]
    },
    {
      "cell_type": "code",
      "source": [
        "#Task 2\n",
        "customer_name = input('Please enter your name: ' )\n",
        "customer_age = str(input('Please enter your age: '))\n",
        "\n",
        "print(f'\\nCongratulations, Dear {customer_name}, at {customer_age}, you’re eligible for our premium loyalty program!!')\n",
        "\n"
      ],
      "metadata": {
        "colab": {
          "base_uri": "https://localhost:8080/"
        },
        "id": "BAxYQyUsUMLM",
        "outputId": "4b773793-63cd-4234-c29f-c5be6e039274"
      },
      "execution_count": 33,
      "outputs": [
        {
          "output_type": "stream",
          "name": "stdout",
          "text": [
            "Please enter your name: John Doe\n",
            "Please enter your age: 30\n",
            "\n",
            "Congratulations, Dear John Doe, at 30, you’re eligible for our premium loyalty program!!\n"
          ]
        }
      ]
    },
    {
      "cell_type": "code",
      "source": [
        "#Task 3: Product List Management\n",
        "import random\n",
        "product_prices = []\n",
        "for i in range(10):\n",
        "  p = float(input(f\"please enter product price {i + 1}: \\n\" ))\n",
        "  product_prices.append(p)\n",
        "print(f\" The product price list is: {product_prices} \\n\")\n",
        "print(f\" The highest product price in the list is: {max(product_prices)} \\n\")\n",
        "print(f\" The lowest product price in the list is: {min(product_prices)} \\n\")\n",
        "\n",
        "# Remove the maximum and minimum values from the list\n",
        "if product_prices: # Check if the list is not empty\n",
        "    max_price = max(product_prices)\n",
        "    product_prices.remove(max_price)\n",
        "\n",
        "    if product_prices: # Check again in case only one element was in the original list\n",
        "        min_price = min(product_prices)\n",
        "        product_prices.remove(min_price)\n",
        "\n",
        "print(f\" The mid range product prices are : {product_prices} \\n\")\n",
        "\n",
        "New_premium = input(\" Please enter new premium product price: \\n\")\n",
        "\n",
        "product_prices.append(New_premium)\n",
        "print(f\" The updated product price list is: {product_prices} \\n\")"
      ],
      "metadata": {
        "colab": {
          "base_uri": "https://localhost:8080/"
        },
        "id": "sH_1UGZwdj_C",
        "outputId": "a08e39e3-56e3-4405-f209-662982d2bfb4"
      },
      "execution_count": 34,
      "outputs": [
        {
          "output_type": "stream",
          "name": "stdout",
          "text": [
            "please enter product price 1: \n",
            "50\n",
            "please enter product price 2: \n",
            "120\n",
            "please enter product price 3: \n",
            "30\n",
            "please enter product price 4: \n",
            "200\n",
            "please enter product price 5: \n",
            "90\n",
            "please enter product price 6: \n",
            "150\n",
            "please enter product price 7: \n",
            "180\n",
            "please enter product price 8: \n",
            "50\n",
            "please enter product price 9: \n",
            "48\n",
            "please enter product price 10: \n",
            "30\n",
            " The product price list is: [50.0, 120.0, 30.0, 200.0, 90.0, 150.0, 180.0, 50.0, 48.0, 30.0] \n",
            "\n",
            " The highest product price in the list is: 200.0 \n",
            "\n",
            " The lowest product price in the list is: 30.0 \n",
            "\n",
            " The mid range product prices are : [50.0, 120.0, 90.0, 150.0, 180.0, 50.0, 48.0, 30.0] \n",
            "\n",
            " Please enter new premium product price: \n",
            "300\n",
            " The updated product price list is: [50.0, 120.0, 90.0, 150.0, 180.0, 50.0, 48.0, 30.0, '300'] \n",
            "\n"
          ]
        }
      ]
    },
    {
      "cell_type": "code",
      "source": [
        "#Task 4: Inventory Lookup\n",
        "\n",
        "product_info = { \"product_name\": \"Wireless Mouse\", \"SKU\": \"WM-12345\", \"price\": 25.99, \"category\": \"Electronics\" }\n",
        "\n",
        "p = input(\"please enter product name: \\n\")\n",
        "if p == product_info.get(\"product_name\"):\n",
        "  print(f\" The product information is: Product Name: {product_info.get('product_name')} and SKU: {product_info.get('SKU')} \\n\")"
      ],
      "metadata": {
        "colab": {
          "base_uri": "https://localhost:8080/"
        },
        "id": "PNQ9ReYl6JY_",
        "outputId": "a811f6be-4eac-447d-b9fb-b1ff066ad878"
      },
      "execution_count": 35,
      "outputs": [
        {
          "output_type": "stream",
          "name": "stdout",
          "text": [
            "please enter product name: \n",
            "Wireless Mouse\n",
            " The product information is: Product Name: Wireless Mouse and SKU: WM-12345 \n",
            "\n"
          ]
        }
      ]
    },
    {
      "cell_type": "code",
      "source": [
        "#Task 5: Stock Level Alert System\n",
        "threshold  =  20\n",
        "\n",
        "stock_input = input(f\"please enter stock level: \\n\")\n",
        "\n",
        "try:\n",
        "  stock_level = int(stock_input)\n",
        "  if stock_level < threshold:\n",
        "    print('reorder now')\n",
        "  else:\n",
        "    print('stock level is sufficient')\n",
        "except ValueError:\n",
        "  print(\"Invalid input. Please enter a valid integer for the stock level.\")"
      ],
      "metadata": {
        "colab": {
          "base_uri": "https://localhost:8080/"
        },
        "id": "jFmgBAiyqFph",
        "outputId": "c4f43600-2f17-40de-bb01-42d6bd6587f8"
      },
      "execution_count": 36,
      "outputs": [
        {
          "output_type": "stream",
          "name": "stdout",
          "text": [
            "please enter stock level: \n",
            "40\n",
            "stock level is sufficient\n"
          ]
        }
      ]
    },
    {
      "cell_type": "code",
      "source": [
        "#Task 6: Sales Report Formatting\n",
        "\n",
        "products_sold = []\n",
        "index = 0\n",
        "upper_case_list = []\n",
        "\n",
        "for i in range(5):\n",
        "  p = input(f\"please enter product name {i + 1}: \\n\")\n",
        "  products_sold.append(p)\n",
        "print(f'The products sold list is: {products_sold}')\n",
        "for product in products_sold: #upper case using for loop\n",
        "  print(product.upper())\n",
        "while index < len(products_sold): #upper case using while loop\n",
        "  upper_case_list.append(products_sold[index].upper())\n",
        "  index += 1\n",
        "print(f'The upper case list is: {upper_case_list}')"
      ],
      "metadata": {
        "id": "78rqgjHBNZaj",
        "colab": {
          "base_uri": "https://localhost:8080/"
        },
        "outputId": "38d465ee-f4db-4137-b6d8-69721103c7e5"
      },
      "execution_count": 37,
      "outputs": [
        {
          "output_type": "stream",
          "name": "stdout",
          "text": [
            "please enter product name 1: \n",
            "monitor\n",
            "please enter product name 2: \n",
            "mouse\n",
            "please enter product name 3: \n",
            "laptop\n",
            "please enter product name 4: \n",
            "keyboard\n",
            "please enter product name 5: \n",
            "printer\n",
            "The products sold list is: ['monitor', 'mouse', 'laptop', 'keyboard', 'printer']\n",
            "MONITOR\n",
            "MOUSE\n",
            "LAPTOP\n",
            "KEYBOARD\n",
            "PRINTER\n",
            "The upper case list is: ['MONITOR', 'MOUSE', 'LAPTOP', 'KEYBOARD', 'PRINTER']\n"
          ]
        }
      ]
    },
    {
      "cell_type": "code",
      "source": [
        "#Task 7: Area Calculation for Store Layout\n",
        "\n",
        "def Area():\n",
        "  L = float(input(f\"enter length of the section in meters: \\n\"))\n",
        "  W = float(input(f\"enter width of the section in meters: \\n\"))\n",
        "  Area = L*W\n",
        "  return(Area)\n",
        "calculated_area = Area()\n",
        "print(f\"The area of the section  is: {calculated_area} square meters \")"
      ],
      "metadata": {
        "colab": {
          "base_uri": "https://localhost:8080/"
        },
        "id": "E-sRUfNYua8n",
        "outputId": "37001e71-1669-4b77-b97e-80c7cb9a72ed"
      },
      "execution_count": 38,
      "outputs": [
        {
          "output_type": "stream",
          "name": "stdout",
          "text": [
            "enter length of the section in meters: \n",
            "20\n",
            "enter width of the section in meters: \n",
            "15\n",
            "The area of the section  is: 300.0 square meters \n"
          ]
        }
      ]
    },
    {
      "cell_type": "code",
      "source": [
        "#Task 8: Customer Feedback Analysis\n",
        "vowels  = ['a', 'e', 'i', 'o', 'u', 'A', 'E', ' I', 'O', 'U']\n",
        "count = 0\n",
        "vowel_list = []\n",
        "feedback = input(f'please input your feedback: ')\n",
        "for char in feedback:\n",
        "  if char in vowels:\n",
        "    vowel_list.append(char)\n",
        "    count += 1\n",
        "print('Customer feedback analysis')\n",
        "print(f'Original feedback: {feedback}')\n",
        "print(f'The vowels in the feedback is {vowel_list}')\n",
        "print(f'The number of vowels in the feedback is: {count}')\n",
        "reversed_feedback = feedback[::-1]\n",
        "print(f'Reversed feedback: {reversed_feedback}')\n",
        "\n"
      ],
      "metadata": {
        "colab": {
          "base_uri": "https://localhost:8080/"
        },
        "id": "zl2ataeS0xci",
        "outputId": "81f33525-adaa-4d14-eb00-dfb0777243e1"
      },
      "execution_count": 40,
      "outputs": [
        {
          "output_type": "stream",
          "name": "stdout",
          "text": [
            "please input your feedback: I loved the fast and friendly service!\n",
            "Customer feedback analysis\n",
            "Original feedback: I loved the fast and friendly service!\n",
            "The vowels in the feedback is ['o', 'e', 'e', 'a', 'a', 'i', 'e', 'e', 'i', 'e']\n",
            "The number of vowels in the feedback is: 10\n",
            "Reversed feedback: !ecivres yldneirf dna tsaf eht devol I\n"
          ]
        }
      ]
    },
    {
      "cell_type": "code",
      "source": [
        "#Task 9: Price Filtering Tool\n",
        "product_prices = [150, 85, 300, 120, 45, 200]\n",
        "Discount_Threshold = 100\n",
        "threshold_price_list = []\n",
        "for price in product_prices:\n",
        "  if price < Discount_Threshold:\n",
        "    threshold_price_list.append(price)\n",
        "print (f'Products eligible for the discount campaign: {threshold_price_list}')\n"
      ],
      "metadata": {
        "id": "S9cK9un57hiT",
        "colab": {
          "base_uri": "https://localhost:8080/"
        },
        "outputId": "ce841300-a6a3-433f-b501-81474f17cdca"
      },
      "execution_count": 41,
      "outputs": [
        {
          "output_type": "stream",
          "name": "stdout",
          "text": [
            "Products eligible for the discount campaign: [85, 45]\n"
          ]
        }
      ]
    },
    {
      "cell_type": "code",
      "source": [
        "#Task 10: Sales Log File Management\n",
        "file_path = \"Sales_log.txt\"\n",
        "with open(file_path, \"w\") as file:\n",
        "      file.write(\"Total sales today: $12,345 \\n\")\n",
        "      file.write(\"Number of transactions: 123 \\n\")\n",
        "with open(file_path, \"r\") as file:\n",
        "        content = file.read()\n",
        "        print(\"Content of Sales_log.txt:\")\n",
        "        print(content)\n"
      ],
      "metadata": {
        "id": "JHBDdddulxet",
        "colab": {
          "base_uri": "https://localhost:8080/"
        },
        "outputId": "a8d2144a-edd7-4ecb-cb56-16f62fb5a347"
      },
      "execution_count": 42,
      "outputs": [
        {
          "output_type": "stream",
          "name": "stdout",
          "text": [
            "Content of Sales_log.txt:\n",
            "Total sales today: $12,345 \n",
            "Number of transactions: 123 \n",
            "\n"
          ]
        }
      ]
    },
    {
      "cell_type": "code",
      "source": [
        "#Task 11: Daily Sales Average\n",
        "\n",
        "daily_sales = [1200, 1500, 1100, 1800, 1700, 1600, 1400] # 7 day sales figures\n",
        "average_sales = sum(daily_sales) / len(daily_sales) # Calculate the average using sum() and len()\n",
        "print(f\"Average Daily Sales for the Past Week: {average_sales}\")"
      ],
      "metadata": {
        "colab": {
          "base_uri": "https://localhost:8080/"
        },
        "id": "0RTCzkRpK-oD",
        "outputId": "65304112-286b-44dc-81a1-e06e081eb8f3"
      },
      "execution_count": 43,
      "outputs": [
        {
          "output_type": "stream",
          "name": "stdout",
          "text": [
            "Average Daily Sales for the Past Week: 1471.4285714285713\n"
          ]
        }
      ]
    },
    {
      "cell_type": "code",
      "metadata": {
        "colab": {
          "base_uri": "https://localhost:8080/"
        },
        "id": "c093e899",
        "outputId": "ceb95296-baa8-4df3-c6d9-ecdc9160e16e"
      },
      "source": [
        "#Task 12: Customer Segmentation\n",
        "Customer_Spendings = [200, 800, 1500, 3000, 450, 1200]\n",
        "for index, spendings in enumerate(Customer_Spendings):\n",
        "  if spendings < 500:\n",
        "    print(f'Customer {index+1}: Spending = ${spendings} -> Category: Low')\n",
        "  elif spendings >= 500 and spendings < 1500:\n",
        "    print(f'Customer {index+1}: Spending = ${spendings} -> Category: Medium')\n",
        "  else:\n",
        "    print(f'Customer {index+1}: Spending = ${spendings} -> Category: High')"
      ],
      "execution_count": 44,
      "outputs": [
        {
          "output_type": "stream",
          "name": "stdout",
          "text": [
            "Customer 1: Spending = $200 -> Category: Low\n",
            "Customer 2: Spending = $800 -> Category: Medium\n",
            "Customer 3: Spending = $1500 -> Category: High\n",
            "Customer 4: Spending = $3000 -> Category: High\n",
            "Customer 5: Spending = $450 -> Category: Low\n",
            "Customer 6: Spending = $1200 -> Category: Medium\n"
          ]
        }
      ]
    },
    {
      "cell_type": "code",
      "source": [
        "#Task 13: Discount Calculation\n",
        "def discounted_price(original_price, discount_percentage):\n",
        "    discount_amount = original_price * (discount_percentage / 100)\n",
        "    calculated_discounted_price = original_price - discount_amount\n",
        "    return calculated_discounted_price\n",
        "\n",
        "products = [ {\"name\": \"Product A\", \"original_price\": 100, \"discount_percentage\": 10}, {\"name\": \"Product B\", \"original_price\": 250, \"discount_percentage\": 20}, {\"name\": \"Product C\", \"original_price\": 75, \"discount_percentage\": 15}, {\"name\": \"Product D\", \"original_price\": 150, \"discount_percentage\": 5} ]\n",
        "for product in products:\n",
        "    calculated_discounted_price = discounted_price(product[\"original_price\"], product[\"discount_percentage\"])\n",
        "    print(f\"{product['name']}: Original Price = ${product['original_price']}, Discount = {product['discount_percentage']}%, Final Price = ${calculated_discounted_price:.2f}\")"
      ],
      "metadata": {
        "id": "k3pJHYDQLUMv",
        "colab": {
          "base_uri": "https://localhost:8080/"
        },
        "outputId": "e227cd36-2fb0-41f6-d0bc-c87d2d87fc42"
      },
      "execution_count": 45,
      "outputs": [
        {
          "output_type": "stream",
          "name": "stdout",
          "text": [
            "Product A: Original Price = $100, Discount = 10%, Final Price = $90.00\n",
            "Product B: Original Price = $250, Discount = 20%, Final Price = $200.00\n",
            "Product C: Original Price = $75, Discount = 15%, Final Price = $63.75\n",
            "Product D: Original Price = $150, Discount = 5%, Final Price = $142.50\n"
          ]
        }
      ]
    },
    {
      "cell_type": "code",
      "source": [
        "#Task 14: Customer Feedback Sentiment Analysis\n",
        "Customer_Feedback = \"I am very happy with the service. It was a good experience!\"\n",
        "Positive_Words = [\"good\", \"happy\", \"excellent\", \"great\"]\n",
        "Negative_Words = [\"bad\", \"disappointed\", \"poor\", \"terrible\"]\n",
        "\n",
        "feedback_words = Customer_Feedback.lower().split()\n",
        "\n",
        "for word in feedback_words:\n",
        "  if word in Positive_Words:\n",
        "    print(f\"Customer feedback sentiment: Positive\")\n",
        "  elif word in Negative_Words:\n",
        "    print(f\"Customer feedback sentiment: Negative\")"
      ],
      "metadata": {
        "colab": {
          "base_uri": "https://localhost:8080/"
        },
        "id": "LWHKL2Rbafb2",
        "outputId": "b18ad232-b401-4c08-f969-b178f1325da6"
      },
      "execution_count": 46,
      "outputs": [
        {
          "output_type": "stream",
          "name": "stdout",
          "text": [
            "Customer feedback sentiment: Positive\n",
            "Customer feedback sentiment: Positive\n"
          ]
        }
      ]
    },
    {
      "cell_type": "code",
      "source": [
        "#Task 15: Employee Salary Increment Calculator\n",
        "employees = { \"Alice\": {\"current_salary\": 50000, \"rating\": \"Excellent\"}, \"Bob\": {\"current_salary\": 40000, \"rating\": \"Good\"}, \"Charlie\": {\"current_salary\": 45000, \"rating\": \"Average\"}, \"David\": {\"current_salary\": 35000, \"rating\": \"Poor\"} }\n",
        "increments = { \"Excellent\": 20, \"Good\": 15, \"Average\": 10, \"Poor\": 5 }\n",
        "for employee, details in employees.items():\n",
        "  if details[\"rating\"] in increments:\n",
        "    increment_amount = details[\"current_salary\"] * (increments[details[\"rating\"]] / 100)\n",
        "    new_salary = details[\"current_salary\"] + increment_amount\n",
        "    print(f\"{employee}: Current Salary = ${details['current_salary']}, Increment = ${increment_amount:.2f}, New Salary = ${new_salary:.2f}\")"
      ],
      "metadata": {
        "colab": {
          "base_uri": "https://localhost:8080/"
        },
        "id": "NxuCsI9EktCe",
        "outputId": "08b48ea4-fb39-4518-cfc7-fc03dbacd998"
      },
      "execution_count": 47,
      "outputs": [
        {
          "output_type": "stream",
          "name": "stdout",
          "text": [
            "Alice: Current Salary = $50000, Increment = $10000.00, New Salary = $60000.00\n",
            "Bob: Current Salary = $40000, Increment = $6000.00, New Salary = $46000.00\n",
            "Charlie: Current Salary = $45000, Increment = $4500.00, New Salary = $49500.00\n",
            "David: Current Salary = $35000, Increment = $1750.00, New Salary = $36750.00\n"
          ]
        }
      ]
    },
    {
      "cell_type": "code",
      "source": [
        "#Task 16: Monthly Sales Report Generator\n",
        "daily_sales = [ 200, 250, 300, 400, 350, 500, 450, 300, 250, 400, 200, 300, 450, 500, 400, 250, 350, 300, 450, 400, 250, 300, 200, 400, 350, 300, 500, 450, 300, 250 ]\n",
        "average = sum(daily_sales) / len(daily_sales)\n",
        "with open(\"monthly_sales.txt\", \"w\") as file:\n",
        "    file.write(\"Monthly Sales Report\\n\")\n",
        "    file.write(\"---------------------\\n\")\n",
        "    file.write(f\"Total Sales: {sum(daily_sales)}\\n\")\n",
        "    file.write(f\"Total Sales: {sum(daily_sales)} Average Daily Sales: {average:.2f}\")\n",
        "with open(\"monthly_sales.txt\", \"r\") as file:\n",
        "    content = file.read()\n",
        "    print(content)"
      ],
      "metadata": {
        "colab": {
          "base_uri": "https://localhost:8080/"
        },
        "id": "jHIcexim1L45",
        "outputId": "7cdd5b3e-b755-466b-bacc-c56046a5f737"
      },
      "execution_count": 48,
      "outputs": [
        {
          "output_type": "stream",
          "name": "stdout",
          "text": [
            "Monthly Sales Report\n",
            "---------------------\n",
            "Total Sales: 10300\n",
            "Total Sales: 10300 Average Daily Sales: 343.33\n"
          ]
        }
      ]
    },
    {
      "cell_type": "code",
      "source": [
        "#Task 17: Stock Replenishment\n",
        "products = [ {\"product_name\": \"Product A\", \"stock\": 50}, {\"product_name\": \"Product B\", \"stock\": 150}, {\"product_name\": \"Product C\", \"stock\": 30}, {\"product_name\": \"Product D\", \"stock\": 75}, {\"product_name\": \"Product E\", \"stock\": 20} ]\n",
        "threshold = 40\n",
        "for product in products:\n",
        "  if product['stock']< threshold:\n",
        "    print(f\"Products that need replenishment: {product['product_name']}\")"
      ],
      "metadata": {
        "colab": {
          "base_uri": "https://localhost:8080/"
        },
        "id": "03ShjzG22T7y",
        "outputId": "5e62f248-9e53-48fb-99c7-0cc84a46c3f8"
      },
      "execution_count": 49,
      "outputs": [
        {
          "output_type": "stream",
          "name": "stdout",
          "text": [
            "Products that need replenishment: Product C\n",
            "Products that need replenishment: Product E\n"
          ]
        }
      ]
    },
    {
      "cell_type": "code",
      "source": [
        "#Task 18: Data Cleaning Utility\n",
        "customer_names = [ \" john doe \", \" MARY SMITH \", \" aLICE JOHNSON \", \"bOB WHITE\" ]\n",
        "cleaned_names = [name.strip().title() for name in customer_names]\n",
        "print(f'Cleaned Customer Names for Database Entry:\\n {cleaned_names}')"
      ],
      "metadata": {
        "colab": {
          "base_uri": "https://localhost:8080/"
        },
        "id": "qduJ26nq_pIb",
        "outputId": "54fea7a1-1347-43ef-b418-275a83ef4023"
      },
      "execution_count": 50,
      "outputs": [
        {
          "output_type": "stream",
          "name": "stdout",
          "text": [
            "Cleaned Customer Names for Database Entry:\n",
            " ['John Doe', 'Mary Smith', 'Alice Johnson', 'Bob White']\n"
          ]
        }
      ]
    },
    {
      "cell_type": "code",
      "source": [
        "\n",
        "# Task 19: Next Month Sales Forecasting\n",
        "def main():\n",
        "  sales_last_3_months = [20000, 22000, 25000]\n",
        "  forecasted_sales = sum(sales_last_3_months) / len(sales_last_3_months)\n",
        "  print(f\"Forecasted Sales for Next Month: ${forecasted_sales:.2f}\")\n",
        "\n",
        "main()\n"
      ],
      "metadata": {
        "colab": {
          "base_uri": "https://localhost:8080/"
        },
        "id": "w4166l8tLiUg",
        "outputId": "b17b9e1f-49e5-4c1c-921f-39f2ab808046"
      },
      "execution_count": 51,
      "outputs": [
        {
          "output_type": "stream",
          "name": "stdout",
          "text": [
            "Forecasted Sales for Next Month: $22333.33\n"
          ]
        }
      ]
    },
    {
      "cell_type": "code",
      "source": [
        "\n",
        "# Task 20: Customer Loyalty Points\n",
        "customers = {\n",
        "    \"John Doe\": 250,\n",
        "    \"Jane Smith\": 500,\n",
        "    \"Alice Johnson\": 1000,\n",
        "    \"Bob White\": 150\n",
        "}\n",
        "\n",
        "def calculate_loyalty_points(purchase_amount):\n",
        "    if purchase_amount >= 1000:\n",
        "        return purchase_amount * 2.0  # 2x points for $1000+\n",
        "    elif purchase_amount >= 500:\n",
        "        return purchase_amount * 1.5  # 1.5x points for $500-$999\n",
        "    elif purchase_amount >= 200:\n",
        "        return purchase_amount * 1.25 # 1.25x points for $200-$499\n",
        "    else:\n",
        "        return purchase_amount * 1.0   # 1x points for below $200\n",
        "\n",
        "print(\"Customer Loyalty Points:\")\n",
        "for customer, purchase_amount in customers.items():\n",
        "    loyalty_points = calculate_loyalty_points(purchase_amount)\n",
        "    print(f\"{customer}: ${purchase_amount} Purchase, Loyalty Points: {loyalty_points}\")\n"
      ],
      "metadata": {
        "colab": {
          "base_uri": "https://localhost:8080/"
        },
        "id": "gNSP8Gg6LwDT",
        "outputId": "0df8e24f-4b48-48db-82a6-ae8e79ac2bf2"
      },
      "execution_count": 52,
      "outputs": [
        {
          "output_type": "stream",
          "name": "stdout",
          "text": [
            "Customer Loyalty Points:\n",
            "John Doe: $250 Purchase, Loyalty Points: 312.5\n",
            "Jane Smith: $500 Purchase, Loyalty Points: 750.0\n",
            "Alice Johnson: $1000 Purchase, Loyalty Points: 2000.0\n",
            "Bob White: $150 Purchase, Loyalty Points: 150.0\n"
          ]
        }
      ]
    },
    {
      "cell_type": "code",
      "source": [],
      "metadata": {
        "id": "gB5iSBybNAfh"
      },
      "execution_count": null,
      "outputs": []
    }
  ]
}